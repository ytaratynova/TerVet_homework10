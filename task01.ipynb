{
 "cells": [
  {
   "cell_type": "code",
   "execution_count": null,
   "id": "687ee37c",
   "metadata": {},
   "outputs": [],
   "source": [
    "# Провести дисперсионный анализ для определения того, есть ли различия среднего роста среди взрослых футболистов, \n",
    "# хоккеистов и штангистов.\n",
    "# Даны значения роста в трех группах случайно выбранных спортсменов:\n",
    "\n",
    "# Футболисты: 173, 175, 180, 178, 177, 185, 183, 182.\n",
    "\n",
    "# Хоккеисты: 177, 179, 180, 188, 177, 172, 171, 184, 180.\n",
    "\n",
    "# Штангисты: 172, 173, 169, 177, 166, 180, 178, 177, 172, 166, 170."
   ]
  },
  {
   "cell_type": "code",
   "execution_count": 4,
   "id": "a053eab0",
   "metadata": {},
   "outputs": [],
   "source": [
    "import scipy.stats as stats\n",
    "import numpy as np"
   ]
  },
  {
   "cell_type": "code",
   "execution_count": 5,
   "id": "a86cdaad",
   "metadata": {},
   "outputs": [],
   "source": [
    "football_pl = np.array([173, 175, 180, 178, 177, 185, 183, 182])\n",
    "hockey_pl = np.array([177, 179, 180, 188, 177, 172, 171, 184, 180])\n",
    "weightlifters = np.array([172, 173, 169, 177, 166, 180, 178, 177, 172, 166, 170])"
   ]
  },
  {
   "cell_type": "code",
   "execution_count": 6,
   "id": "ad01b78f",
   "metadata": {},
   "outputs": [
    {
     "data": {
      "text/plain": [
       "ShapiroResult(statistic=0.9775082468986511, pvalue=0.9495404362678528)"
      ]
     },
     "execution_count": 6,
     "metadata": {},
     "output_type": "execute_result"
    }
   ],
   "source": [
    "# 1. проверяем выборки на нормаьность\n",
    "stats.shapiro(football_pl)"
   ]
  },
  {
   "cell_type": "code",
   "execution_count": 7,
   "id": "f54b2394",
   "metadata": {},
   "outputs": [
    {
     "data": {
      "text/plain": [
       "ShapiroResult(statistic=0.9579196572303772, pvalue=0.7763139009475708)"
      ]
     },
     "execution_count": 7,
     "metadata": {},
     "output_type": "execute_result"
    }
   ],
   "source": [
    "stats.shapiro(hockey_pl)"
   ]
  },
  {
   "cell_type": "code",
   "execution_count": 8,
   "id": "d5ed8ada",
   "metadata": {},
   "outputs": [
    {
     "data": {
      "text/plain": [
       "ShapiroResult(statistic=0.9386808276176453, pvalue=0.5051165223121643)"
      ]
     },
     "execution_count": 8,
     "metadata": {},
     "output_type": "execute_result"
    }
   ],
   "source": [
    "stats.shapiro(weightlifters)"
   ]
  },
  {
   "cell_type": "code",
   "execution_count": null,
   "id": "fd2c093b",
   "metadata": {},
   "outputs": [],
   "source": [
    "# pvalue во всех трех выборках > alpha = > распределение нормальное\n"
   ]
  },
  {
   "cell_type": "code",
   "execution_count": 10,
   "id": "bce44e5f",
   "metadata": {},
   "outputs": [
    {
     "data": {
      "text/plain": [
       "BartlettResult(statistic=0.4640521043406442, pvalue=0.7929254656083131)"
      ]
     },
     "execution_count": 10,
     "metadata": {},
     "output_type": "execute_result"
    }
   ],
   "source": [
    "# 2. проверяем равенство дисперсий:\n",
    "stats.bartlett(football_pl, hockey_pl, weightlifters)"
   ]
  },
  {
   "cell_type": "code",
   "execution_count": 11,
   "id": "4e60d8d1",
   "metadata": {},
   "outputs": [],
   "source": [
    "# pvalue  > alpha = > дисперсии равны"
   ]
  },
  {
   "cell_type": "code",
   "execution_count": 12,
   "id": "bccf0bad",
   "metadata": {},
   "outputs": [
    {
     "data": {
      "text/plain": [
       "F_onewayResult(statistic=5.500053450812596, pvalue=0.010482206918698694)"
      ]
     },
     "execution_count": 12,
     "metadata": {},
     "output_type": "execute_result"
    }
   ],
   "source": [
    "# 3. Используем дисперсионный анализ Фишера:\n",
    "stats.f_oneway(football_pl, hockey_pl, weightlifters)"
   ]
  },
  {
   "cell_type": "code",
   "execution_count": null,
   "id": "20385a84",
   "metadata": {},
   "outputs": [],
   "source": [
    "# pvalue < alpha = > Выявлены различия среднего роста среди взрослых футболистов, \n",
    "# хоккеистов и штангистов."
   ]
  }
 ],
 "metadata": {
  "kernelspec": {
   "display_name": "Python 3 (ipykernel)",
   "language": "python",
   "name": "python3"
  },
  "language_info": {
   "codemirror_mode": {
    "name": "ipython",
    "version": 3
   },
   "file_extension": ".py",
   "mimetype": "text/x-python",
   "name": "python",
   "nbconvert_exporter": "python",
   "pygments_lexer": "ipython3",
   "version": "3.10.9"
  }
 },
 "nbformat": 4,
 "nbformat_minor": 5
}
